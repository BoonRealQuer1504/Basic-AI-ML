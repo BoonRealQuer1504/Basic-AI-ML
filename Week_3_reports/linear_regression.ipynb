{
 "cells": [
  {
   "cell_type": "code",
   "execution_count": 1,
   "metadata": {},
   "outputs": [],
   "source": [
    "import numpy as np\n",
    "import pandas as pd\n",
    "import matplotlib.pyplot as plt\n",
    "import torch.nn as nn\n",
    "import torch \n",
    "import torch.optim as optim\n"
   ]
  },
  {
   "cell_type": "code",
   "execution_count": 2,
   "metadata": {},
   "outputs": [
    {
     "data": {
      "text/plain": [
       "array([[  30.    ,  448.524 ],\n",
       "       [  32.4138,  509.248 ],\n",
       "       [  34.8276,  535.104 ],\n",
       "       [  37.2414,  551.432 ],\n",
       "       [  39.6552,  623.418 ],\n",
       "       [  42.069 ,  625.992 ],\n",
       "       [  44.4828,  655.248 ],\n",
       "       [  46.8966,  701.377 ],\n",
       "       [  49.3103,  748.918 ],\n",
       "       [  51.7241,  757.881 ],\n",
       "       [  54.1379,  831.004 ],\n",
       "       [  56.5517,  855.409 ],\n",
       "       [  58.9655,  866.707 ],\n",
       "       [  61.3793,  902.545 ],\n",
       "       [  63.7931,  952.261 ],\n",
       "       [  66.2069,  995.531 ],\n",
       "       [  68.6207, 1069.78  ],\n",
       "       [  71.0345, 1074.42  ],\n",
       "       [  73.4483, 1103.88  ],\n",
       "       [  75.8621, 1138.69  ],\n",
       "       [  78.2759, 1153.13  ],\n",
       "       [  80.6897, 1240.27  ],\n",
       "       [  83.1034, 1251.9   ],\n",
       "       [  85.5172, 1287.97  ],\n",
       "       [  87.931 , 1320.47  ],\n",
       "       [  90.3448, 1374.92  ],\n",
       "       [  92.7586, 1410.16  ],\n",
       "       [  95.1724, 1469.69  ],\n",
       "       [  97.5862, 1478.54  ],\n",
       "       [ 100.    , 1515.28  ]])"
      ]
     },
     "execution_count": 2,
     "metadata": {},
     "output_type": "execute_result"
    }
   ],
   "source": [
    "data = pd.read_csv('data_linear.csv').values\n",
    "data"
   ]
  },
  {
   "cell_type": "code",
   "execution_count": 4,
   "metadata": {},
   "outputs": [
    {
     "data": {
      "text/plain": [
       "tensor([ 30.0000,  32.4138,  34.8276,  37.2414,  39.6552,  42.0690,  44.4828,\n",
       "         46.8966,  49.3103,  51.7241,  54.1379,  56.5517,  58.9655,  61.3793,\n",
       "         63.7931,  66.2069,  68.6207,  71.0345,  73.4483,  75.8621,  78.2759,\n",
       "         80.6897,  83.1034,  85.5172,  87.9310,  90.3448,  92.7586,  95.1724,\n",
       "         97.5862, 100.0000])"
      ]
     },
     "execution_count": 4,
     "metadata": {},
     "output_type": "execute_result"
    }
   ],
   "source": [
    "x=torch.tensor(data[:,0],dtype=torch.float32)\n",
    "x ## tach tung cot du lieu o tung hang va cot 0"
   ]
  },
  {
   "cell_type": "code",
   "execution_count": 5,
   "metadata": {},
   "outputs": [
    {
     "data": {
      "text/plain": [
       "tensor([ 448.5240,  509.2480,  535.1040,  551.4320,  623.4180,  625.9920,\n",
       "         655.2480,  701.3770,  748.9180,  757.8810,  831.0040,  855.4090,\n",
       "         866.7070,  902.5450,  952.2610,  995.5310, 1069.7800, 1074.4200,\n",
       "        1103.8800, 1138.6899, 1153.1300, 1240.2700, 1251.9000, 1287.9700,\n",
       "        1320.4700, 1374.9200, 1410.1600, 1469.6899, 1478.5400, 1515.2800])"
      ]
     },
     "execution_count": 5,
     "metadata": {},
     "output_type": "execute_result"
    }
   ],
   "source": [
    "y = torch.tensor(data[:,1], dtype=torch.float32)\n",
    "y #cot 1 "
   ]
  },
  {
   "cell_type": "code",
   "execution_count": 6,
   "metadata": {},
   "outputs": [
    {
     "data": {
      "text/plain": [
       "tensor([[ 30.0000],\n",
       "        [ 32.4138],\n",
       "        [ 34.8276],\n",
       "        [ 37.2414],\n",
       "        [ 39.6552],\n",
       "        [ 42.0690],\n",
       "        [ 44.4828],\n",
       "        [ 46.8966],\n",
       "        [ 49.3103],\n",
       "        [ 51.7241],\n",
       "        [ 54.1379],\n",
       "        [ 56.5517],\n",
       "        [ 58.9655],\n",
       "        [ 61.3793],\n",
       "        [ 63.7931],\n",
       "        [ 66.2069],\n",
       "        [ 68.6207],\n",
       "        [ 71.0345],\n",
       "        [ 73.4483],\n",
       "        [ 75.8621],\n",
       "        [ 78.2759],\n",
       "        [ 80.6897],\n",
       "        [ 83.1034],\n",
       "        [ 85.5172],\n",
       "        [ 87.9310],\n",
       "        [ 90.3448],\n",
       "        [ 92.7586],\n",
       "        [ 95.1724],\n",
       "        [ 97.5862],\n",
       "        [100.0000]])"
      ]
     },
     "execution_count": 6,
     "metadata": {},
     "output_type": "execute_result"
    }
   ],
   "source": [
    "x=x.unsqueeze(1)\n",
    "x ## chuyen ve dang tensor (,1)"
   ]
  },
  {
   "cell_type": "code",
   "execution_count": 8,
   "metadata": {},
   "outputs": [
    {
     "data": {
      "text/plain": [
       "tensor([[[ 448.5240]],\n",
       "\n",
       "        [[ 509.2480]],\n",
       "\n",
       "        [[ 535.1040]],\n",
       "\n",
       "        [[ 551.4320]],\n",
       "\n",
       "        [[ 623.4180]],\n",
       "\n",
       "        [[ 625.9920]],\n",
       "\n",
       "        [[ 655.2480]],\n",
       "\n",
       "        [[ 701.3770]],\n",
       "\n",
       "        [[ 748.9180]],\n",
       "\n",
       "        [[ 757.8810]],\n",
       "\n",
       "        [[ 831.0040]],\n",
       "\n",
       "        [[ 855.4090]],\n",
       "\n",
       "        [[ 866.7070]],\n",
       "\n",
       "        [[ 902.5450]],\n",
       "\n",
       "        [[ 952.2610]],\n",
       "\n",
       "        [[ 995.5310]],\n",
       "\n",
       "        [[1069.7800]],\n",
       "\n",
       "        [[1074.4200]],\n",
       "\n",
       "        [[1103.8800]],\n",
       "\n",
       "        [[1138.6899]],\n",
       "\n",
       "        [[1153.1300]],\n",
       "\n",
       "        [[1240.2700]],\n",
       "\n",
       "        [[1251.9000]],\n",
       "\n",
       "        [[1287.9700]],\n",
       "\n",
       "        [[1320.4700]],\n",
       "\n",
       "        [[1374.9200]],\n",
       "\n",
       "        [[1410.1600]],\n",
       "\n",
       "        [[1469.6899]],\n",
       "\n",
       "        [[1478.5400]],\n",
       "\n",
       "        [[1515.2800]]])"
      ]
     },
     "execution_count": 8,
     "metadata": {},
     "output_type": "execute_result"
    }
   ],
   "source": [
    "y=y.unsqueeze(1)\n",
    "y"
   ]
  },
  {
   "cell_type": "code",
   "execution_count": 26,
   "metadata": {},
   "outputs": [],
   "source": [
    "##Ham training se tim hieu sau\n",
    "def training_loop(n_epochs, optimizer, model, loss_fn, x, y):\n",
    "    losses = []\n",
    "    for epoch in range(1, n_epochs + 1):\n",
    "      y_hat = model(x)\n",
    "      print(y_hat.shape, y.shape)\n",
    "      loss = loss_fn(y_hat, y)\n",
    "      optimizer.zero_grad()\n",
    "      loss.backward()\n",
    "      optimizer.step()\n",
    "      if epoch % 1 == 0:\n",
    "              losses.append(loss.item())\n",
    "              print('Epoch %d, Loss %f' % (epoch, float(loss)))\n",
    "    return losses\n"
   ]
  },
  {
   "cell_type": "code",
   "execution_count": 22,
   "metadata": {},
   "outputs": [],
   "source": [
    "linear_model=nn.Linear(1,1) # NN voi 1 input, 1 output \n",
    "optimizer=optim.SGD(linear_model.parameters(),lr=0.00004)"
   ]
  },
  {
   "cell_type": "code",
   "execution_count": 19,
   "metadata": {},
   "outputs": [
    {
     "data": {
      "text/plain": [
       "[Parameter containing:\n",
       " tensor([[-0.3160]], requires_grad=True),\n",
       " Parameter containing:\n",
       " tensor([0.1898], requires_grad=True)]"
      ]
     },
     "execution_count": 19,
     "metadata": {},
     "output_type": "execute_result"
    }
   ],
   "source": [
    "list(linear_model.parameters())"
   ]
  },
  {
   "cell_type": "code",
   "execution_count": 32,
   "metadata": {},
   "outputs": [
    {
     "name": "stdout",
     "output_type": "stream",
     "text": [
      "torch.Size([30, 1]) torch.Size([30])\n",
      "Epoch 1, Loss 191315.375000\n",
      "torch.Size([30, 1]) torch.Size([30])\n",
      "Epoch 2, Loss 191311.375000\n",
      "torch.Size([30, 1]) torch.Size([30])\n",
      "Epoch 3, Loss 191309.000000\n",
      "torch.Size([30, 1]) torch.Size([30])\n",
      "Epoch 4, Loss 191307.234375\n",
      "torch.Size([30, 1]) torch.Size([30])\n",
      "Epoch 5, Loss 191305.718750\n",
      "torch.Size([30, 1]) torch.Size([30])\n",
      "Epoch 6, Loss 191304.343750\n",
      "torch.Size([30, 1]) torch.Size([30])\n",
      "Epoch 7, Loss 191302.968750\n",
      "torch.Size([30, 1]) torch.Size([30])\n",
      "Epoch 8, Loss 191301.562500\n",
      "torch.Size([30, 1]) torch.Size([30])\n",
      "Epoch 9, Loss 191300.234375\n",
      "torch.Size([30, 1]) torch.Size([30])\n",
      "Epoch 10, Loss 191298.875000\n"
     ]
    },
    {
     "name": "stderr",
     "output_type": "stream",
     "text": [
      "c:\\Users\\speci\\AppData\\Local\\Programs\\Python\\Python312\\Lib\\site-packages\\torch\\nn\\modules\\loss.py:608: UserWarning: Using a target size (torch.Size([30])) that is different to the input size (torch.Size([30, 1])). This will likely lead to incorrect results due to broadcasting. Please ensure they have the same size.\n",
      "  return F.mse_loss(input, target, reduction=self.reduction)\n"
     ]
    }
   ],
   "source": [
    "loss = training_loop(\n",
    "  n_epochs = 10,\n",
    "  optimizer = optimizer,\n",
    "  model = linear_model,\n",
    "  loss_fn = nn.MSELoss(),\n",
    "  x = x, \n",
    "  y = y\n",
    ")"
   ]
  },
  {
   "cell_type": "code",
   "execution_count": 28,
   "metadata": {},
   "outputs": [
    {
     "data": {
      "text/plain": [
       "Text(0, 0.5, 'loss')"
      ]
     },
     "execution_count": 28,
     "metadata": {},
     "output_type": "execute_result"
    },
    {
     "data": {
      "image/png": "[encoded data removed]",
      "text/plain": [
       "<Figure size 640x480 with 1 Axes>"
      ]
     },
     "metadata": {},
     "output_type": "display_data"
    }
   ],
   "source": [
    "plt.plot(loss)\n",
    "plt.xlabel('epoch')\n",
    "plt.ylabel('loss')"
   ]
  },
  {
   "cell_type": "code",
   "execution_count": 33,
   "metadata": {},
   "outputs": [
    {
     "data": {
      "text/plain": [
       "[<matplotlib.lines.Line2D at 0x17475319100>]"
      ]
     },
     "execution_count": 33,
     "metadata": {},
     "output_type": "execute_result"
    },
    {
     "data": {
      "image/png": "[encoded data removed]",
      "text/plain": [
       "<Figure size 640x480 with 1 Axes>"
      ]
     },
     "metadata": {},
     "output_type": "display_data"
    }
   ],
   "source": [
    "x=torch.tensor(data[:,0],dtype=torch.float32)\n",
    "y=torch.tensor(data[:,1],dtype=torch.float32)\n",
    "x=x.unsqueeze(1)\n",
    "\n",
    "with torch.no_grad():\n",
    "    y_hat=linear_model(x)\n",
    "plt.scatter(x,y)\n",
    "\n",
    "plt.plot(x,y_hat,c='r')"
   ]
  },
  {
   "cell_type": "code",
   "execution_count": 30,
   "metadata": {},
   "outputs": [
    {
     "data": {
      "text/plain": [
       "<matplotlib.collections.PathCollection at 0x174731a2870>"
      ]
     },
     "execution_count": 30,
     "metadata": {},
     "output_type": "execute_result"
    },
    {
     "data": {
      "image/png": "[encoded data removed]",
      "text/plain": [
       "<Figure size 640x480 with 1 Axes>"
      ]
     },
     "metadata": {},
     "output_type": "display_data"
    }
   ],
   "source": [
    "plt.scatter(x,y)"
   ]
  },
  {
   "cell_type": "code",
   "execution_count": null,
   "metadata": {},
   "outputs": [],
   "source": []
  }
 ],
 "metadata": {
  "kernelspec": {
   "display_name": "Python 3",
   "language": "python",
   "name": "python3"
  },
  "language_info": {
   "codemirror_mode": {
    "name": "ipython",
    "version": 3
   },
   "file_extension": ".py",
   "mimetype": "text/x-python",
   "name": "python",
   "nbconvert_exporter": "python",
   "pygments_lexer": "ipython3",
   "version": "3.12.5"
  }
 },
 "nbformat": 4,
 "nbformat_minor": 2
}
