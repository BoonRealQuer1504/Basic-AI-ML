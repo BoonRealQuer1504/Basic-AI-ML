{
 "cells": [
  {
   "cell_type": "code",
   "execution_count": 4,
   "metadata": {},
   "outputs": [
    {
     "name": "stdout",
     "output_type": "stream",
     "text": [
      "Accuracy of segmentation model: 0.78\n"
     ]
    }
   ],
   "source": [
    "import numpy as np \n",
    "ground_truth_mask = np.array([\n",
    "    [0, 1, 1, 1, 1, 0, 0],\n",
    "    [0, 1, 1, 1, 1, 1, 1],\n",
    "    [0, 1, 0, 0, 0, 1, 0],\n",
    "    [0, 1, 0, 0, 0, 0, 0],\n",
    "    [1, 1, 0, 0, 0, 0, 0],\n",
    "    [1, 0, 0, 0, 0, 0, 0],\n",
    "    [1, 0, 0, 0, 0, 0, 0]\n",
    "])\n",
    "predicted_mask = np.array([\n",
    "    [1, 1, 0, 1, 0, 1, 0],\n",
    "    [0, 1, 1, 1, 1, 1, 0],\n",
    "    [0, 1, 1, 1, 1, 0, 0],\n",
    "    [0, 1, 0, 0, 0, 0, 0],\n",
    "    [0, 1, 0, 0, 0, 0, 0],\n",
    "    [1, 1, 0, 0, 0, 0, 0],\n",
    "    [1, 0, 0, 0, 0, 0, 0]\n",
    "])\n",
    "\n",
    "accuracy = np.sum(ground_truth_mask == predicted_mask) / np.prod(ground_truth_mask.shape)\n",
    "print(f\"Accuracy of segmentation model: {accuracy:.2f}\")\n"
   ]
  },
  {
   "cell_type": "code",
   "execution_count": null,
   "metadata": {},
   "outputs": [],
   "source": []
  }
 ],
 "metadata": {
  "kernelspec": {
   "display_name": "Python 3",
   "language": "python",
   "name": "python3"
  },
  "language_info": {
   "codemirror_mode": {
    "name": "ipython",
    "version": 3
   },
   "file_extension": ".py",
   "mimetype": "text/x-python",
   "name": "python",
   "nbconvert_exporter": "python",
   "pygments_lexer": "ipython3",
   "version": "3.12.5"
  }
 },
 "nbformat": 4,
 "nbformat_minor": 2
}
