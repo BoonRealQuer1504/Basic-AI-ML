{
 "cells": [
  {
   "cell_type": "code",
   "execution_count": 6,
   "metadata": {},
   "outputs": [],
   "source": [
    "import numpy as np \n",
    "from scipy.signal import convolve\n",
    "input_feature_map = np.array([\n",
    "    [1, 2, 3, 4, 5, 6, 7], \n",
    "    [2, 3, 4, 7, 6, 6, 6],\n",
    "    [3, 4, 5, 8, 5, 4, 2], \n",
    "    [4, 5, 6, 8, 6, 5, 2],\n",
    "    [5, 6, 7, 8, 7, 4, 4],\n",
    "    [6, 7, 8, 3, 8, 2, 5],\n",
    "    [7, 8, 9, 2, 9, 3, 4]\n",
    "])\n",
    "kernel = np.array([\n",
    "    [1, 0, 0],\n",
    "    [0, 1, 0], \n",
    "    [0, 0, 1]\n",
    "])\n",
    "Stride = 1\n",
    "Rate = 2\n"
   ]
  },
  {
   "cell_type": "code",
   "execution_count": 7,
   "metadata": {},
   "outputs": [
    {
     "data": {
      "text/plain": [
       "array([[0., 0., 0., 0., 0.],\n",
       "       [0., 0., 0., 0., 0.],\n",
       "       [0., 0., 0., 0., 0.],\n",
       "       [0., 0., 0., 0., 0.],\n",
       "       [0., 0., 0., 0., 0.]])"
      ]
     },
     "execution_count": 7,
     "metadata": {},
     "output_type": "execute_result"
    }
   ],
   "source": [
    "kernel_conv=np.zeros((kernel.shape[0]+Rate, kernel.shape[1]+Rate))\n",
    "kernel_conv"
   ]
  },
  {
   "cell_type": "code",
   "execution_count": 8,
   "metadata": {},
   "outputs": [
    {
     "data": {
      "text/plain": [
       "array([[1., 0., 0., 0., 0.],\n",
       "       [0., 0., 0., 0., 0.],\n",
       "       [0., 0., 1., 0., 0.],\n",
       "       [0., 0., 0., 0., 0.],\n",
       "       [0., 0., 0., 0., 1.]])"
      ]
     },
     "execution_count": 8,
     "metadata": {},
     "output_type": "execute_result"
    }
   ],
   "source": [
    "for i in range (kernel_conv.shape[0]):\n",
    "    if (i%2!=0):\n",
    "        continue\n",
    "    else:\n",
    "        for j in range (kernel_conv.shape[0]):\n",
    "            if (j%2!=0):\n",
    "                continue\n",
    "            else:\n",
    "                kernel_conv[i,j]=kernel[i//2,j//2]\n",
    "kernel_conv"
   ]
  },
  {
   "cell_type": "code",
   "execution_count": 9,
   "metadata": {},
   "outputs": [
    {
     "data": {
      "text/plain": [
       "array([[13., 14., 12.],\n",
       "       [16., 13., 15.],\n",
       "       [19., 15., 16.]])"
      ]
     },
     "execution_count": 9,
     "metadata": {},
     "output_type": "execute_result"
    }
   ],
   "source": [
    "output_feature_map = convolve(input_feature_map, kernel_conv, mode='valid')\n",
    "output_feature_map"
   ]
  },
  {
   "cell_type": "code",
   "execution_count": null,
   "metadata": {},
   "outputs": [],
   "source": []
  }
 ],
 "metadata": {
  "kernelspec": {
   "display_name": "Python 3",
   "language": "python",
   "name": "python3"
  },
  "language_info": {
   "codemirror_mode": {
    "name": "ipython",
    "version": 3
   },
   "file_extension": ".py",
   "mimetype": "text/x-python",
   "name": "python",
   "nbconvert_exporter": "python",
   "pygments_lexer": "ipython3",
   "version": "3.12.5"
  }
 },
 "nbformat": 4,
 "nbformat_minor": 2
}
